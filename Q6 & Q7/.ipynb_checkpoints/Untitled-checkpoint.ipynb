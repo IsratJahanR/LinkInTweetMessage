{
 "cells": [
  {
   "cell_type": "code",
   "execution_count": 1,
   "id": "767efe6d",
   "metadata": {},
   "outputs": [
    {
     "data": {
      "text/html": [
       "<div>\n",
       "<style scoped>\n",
       "    .dataframe tbody tr th:only-of-type {\n",
       "        vertical-align: middle;\n",
       "    }\n",
       "\n",
       "    .dataframe tbody tr th {\n",
       "        vertical-align: top;\n",
       "    }\n",
       "\n",
       "    .dataframe thead th {\n",
       "        text-align: right;\n",
       "    }\n",
       "</style>\n",
       "<table border=\"1\" class=\"dataframe\">\n",
       "  <thead>\n",
       "    <tr style=\"text-align: right;\">\n",
       "      <th></th>\n",
       "      <th>Link</th>\n",
       "      <th>link_status</th>\n",
       "      <th>domain</th>\n",
       "    </tr>\n",
       "  </thead>\n",
       "  <tbody>\n",
       "    <tr>\n",
       "      <th>0</th>\n",
       "      <td>https://docs.npmjs.com/cli/v7/using-npm/config...</td>\n",
       "      <td>200</td>\n",
       "      <td>docs.npmjs.com</td>\n",
       "    </tr>\n",
       "    <tr>\n",
       "      <th>1</th>\n",
       "      <td>https://github.com/alexwilson/enable-github-au...</td>\n",
       "      <td>200</td>\n",
       "      <td>github.com</td>\n",
       "    </tr>\n",
       "    <tr>\n",
       "      <th>2</th>\n",
       "      <td>https://github.com/Financial-Times/scrumple</td>\n",
       "      <td>200</td>\n",
       "      <td>github.com</td>\n",
       "    </tr>\n",
       "    <tr>\n",
       "      <th>3</th>\n",
       "      <td>https://polyfill.io/v3/packages/#create-polyfi...</td>\n",
       "      <td>Request failed</td>\n",
       "      <td>polyfill.io</td>\n",
       "    </tr>\n",
       "    <tr>\n",
       "      <th>4</th>\n",
       "      <td>https://polyfill.io/v3/packages/</td>\n",
       "      <td>Request failed</td>\n",
       "      <td>polyfill.io</td>\n",
       "    </tr>\n",
       "    <tr>\n",
       "      <th>...</th>\n",
       "      <td>...</td>\n",
       "      <td>...</td>\n",
       "      <td>...</td>\n",
       "    </tr>\n",
       "    <tr>\n",
       "      <th>18561</th>\n",
       "      <td>https://x.com/liran_tal/status/142257310415767...</td>\n",
       "      <td>200</td>\n",
       "      <td>twitter.com</td>\n",
       "    </tr>\n",
       "    <tr>\n",
       "      <th>18562</th>\n",
       "      <td>https://blog.nodejitsu.com/simple-hosted-priva...</td>\n",
       "      <td>Request failed</td>\n",
       "      <td>blog.nodejitsu.com</td>\n",
       "    </tr>\n",
       "    <tr>\n",
       "      <th>18563</th>\n",
       "      <td>http://dailyjs.com/2013/09/06/npm-updates/</td>\n",
       "      <td>Timeout error</td>\n",
       "      <td>dailyjs.com</td>\n",
       "    </tr>\n",
       "    <tr>\n",
       "      <th>18564</th>\n",
       "      <td>http://npm.community/t/npmjs-com-should-displa...</td>\n",
       "      <td>404</td>\n",
       "      <td>npmjs.com</td>\n",
       "    </tr>\n",
       "    <tr>\n",
       "      <th>18565</th>\n",
       "      <td>http://blog.keithcirkel.co.uk/how-to-use-npm-a...</td>\n",
       "      <td>Request failed</td>\n",
       "      <td>blog.keithcirkel.co.uk</td>\n",
       "    </tr>\n",
       "  </tbody>\n",
       "</table>\n",
       "<p>18566 rows × 3 columns</p>\n",
       "</div>"
      ],
      "text/plain": [
       "                                                    Link     link_status  \\\n",
       "0      https://docs.npmjs.com/cli/v7/using-npm/config...             200   \n",
       "1      https://github.com/alexwilson/enable-github-au...             200   \n",
       "2            https://github.com/Financial-Times/scrumple             200   \n",
       "3      https://polyfill.io/v3/packages/#create-polyfi...  Request failed   \n",
       "4                       https://polyfill.io/v3/packages/  Request failed   \n",
       "...                                                  ...             ...   \n",
       "18561  https://x.com/liran_tal/status/142257310415767...             200   \n",
       "18562  https://blog.nodejitsu.com/simple-hosted-priva...  Request failed   \n",
       "18563         http://dailyjs.com/2013/09/06/npm-updates/   Timeout error   \n",
       "18564  http://npm.community/t/npmjs-com-should-displa...             404   \n",
       "18565  http://blog.keithcirkel.co.uk/how-to-use-npm-a...  Request failed   \n",
       "\n",
       "                       domain  \n",
       "0              docs.npmjs.com  \n",
       "1                  github.com  \n",
       "2                  github.com  \n",
       "3                 polyfill.io  \n",
       "4                 polyfill.io  \n",
       "...                       ...  \n",
       "18561             twitter.com  \n",
       "18562      blog.nodejitsu.com  \n",
       "18563             dailyjs.com  \n",
       "18564               npmjs.com  \n",
       "18565  blog.keithcirkel.co.uk  \n",
       "\n",
       "[18566 rows x 3 columns]"
      ]
     },
     "execution_count": 1,
     "metadata": {},
     "output_type": "execute_result"
    }
   ],
   "source": [
    "import pandas as pd\n",
    "df = pd.read_csv('RQ6+7 - decay_final1.csv')\n",
    "df\n"
   ]
  },
  {
   "cell_type": "code",
   "execution_count": 2,
   "id": "9834134a",
   "metadata": {},
   "outputs": [
    {
     "data": {
      "text/plain": [
       "15003"
      ]
     },
     "execution_count": 2,
     "metadata": {},
     "output_type": "execute_result"
    }
   ],
   "source": [
    "unique_links = df['Link'].nunique()\n",
    "unique_links"
   ]
  },
  {
   "cell_type": "code",
   "execution_count": 3,
   "id": "fdca7868",
   "metadata": {},
   "outputs": [
    {
     "data": {
      "text/plain": [
       "1962"
      ]
     },
     "execution_count": 3,
     "metadata": {},
     "output_type": "execute_result"
    }
   ],
   "source": [
    "dd = df['domain'].nunique()\n",
    "dd"
   ]
  },
  {
   "cell_type": "code",
   "execution_count": 4,
   "id": "954157cc",
   "metadata": {},
   "outputs": [],
   "source": [
    "import re\n",
    "def clean_domain(domain):\n",
    "    # Remove http://, https://, and www.\n",
    "    cleaned_domain = domain.replace('http://', '').replace('https://', '').replace('www.', '')\n",
    "    # Extract the domain part only\n",
    "    return cleaned_domain.split('/')[0]\n",
    "\n",
    "# Apply the function to the 'domain' column\n",
    "df['domain1'] = df['domain'].apply(clean_domain)"
   ]
  },
  {
   "cell_type": "code",
   "execution_count": 6,
   "id": "694c241f",
   "metadata": {},
   "outputs": [
    {
     "data": {
      "text/plain": [
       "1916"
      ]
     },
     "execution_count": 6,
     "metadata": {},
     "output_type": "execute_result"
    }
   ],
   "source": [
    "dd = df['domain1'].nunique()\n",
    "dd"
   ]
  },
  {
   "cell_type": "code",
   "execution_count": 12,
   "id": "e3bb9bb0",
   "metadata": {},
   "outputs": [
    {
     "data": {
      "text/html": [
       "<div>\n",
       "<style scoped>\n",
       "    .dataframe tbody tr th:only-of-type {\n",
       "        vertical-align: middle;\n",
       "    }\n",
       "\n",
       "    .dataframe tbody tr th {\n",
       "        vertical-align: top;\n",
       "    }\n",
       "\n",
       "    .dataframe thead th {\n",
       "        text-align: right;\n",
       "    }\n",
       "</style>\n",
       "<table border=\"1\" class=\"dataframe\">\n",
       "  <thead>\n",
       "    <tr style=\"text-align: right;\">\n",
       "      <th></th>\n",
       "      <th>Link</th>\n",
       "      <th>link_status</th>\n",
       "      <th>domain1</th>\n",
       "    </tr>\n",
       "  </thead>\n",
       "  <tbody>\n",
       "    <tr>\n",
       "      <th>0</th>\n",
       "      <td>https://docs.npmjs.com/cli/v7/using-npm/config...</td>\n",
       "      <td>200</td>\n",
       "      <td>docs.npmjs.com</td>\n",
       "    </tr>\n",
       "    <tr>\n",
       "      <th>1</th>\n",
       "      <td>https://github.com/alexwilson/enable-github-au...</td>\n",
       "      <td>200</td>\n",
       "      <td>github.com</td>\n",
       "    </tr>\n",
       "    <tr>\n",
       "      <th>2</th>\n",
       "      <td>https://github.com/Financial-Times/scrumple</td>\n",
       "      <td>200</td>\n",
       "      <td>github.com</td>\n",
       "    </tr>\n",
       "    <tr>\n",
       "      <th>3</th>\n",
       "      <td>https://polyfill.io/v3/packages/#create-polyfi...</td>\n",
       "      <td>Request failed</td>\n",
       "      <td>polyfill.io</td>\n",
       "    </tr>\n",
       "    <tr>\n",
       "      <th>4</th>\n",
       "      <td>https://polyfill.io/v3/packages/</td>\n",
       "      <td>Request failed</td>\n",
       "      <td>polyfill.io</td>\n",
       "    </tr>\n",
       "    <tr>\n",
       "      <th>...</th>\n",
       "      <td>...</td>\n",
       "      <td>...</td>\n",
       "      <td>...</td>\n",
       "    </tr>\n",
       "    <tr>\n",
       "      <th>18561</th>\n",
       "      <td>https://x.com/liran_tal/status/142257310415767...</td>\n",
       "      <td>200</td>\n",
       "      <td>twitter.com</td>\n",
       "    </tr>\n",
       "    <tr>\n",
       "      <th>18562</th>\n",
       "      <td>https://blog.nodejitsu.com/simple-hosted-priva...</td>\n",
       "      <td>Request failed</td>\n",
       "      <td>blog.nodejitsu.com</td>\n",
       "    </tr>\n",
       "    <tr>\n",
       "      <th>18563</th>\n",
       "      <td>http://dailyjs.com/2013/09/06/npm-updates/</td>\n",
       "      <td>Timeout error</td>\n",
       "      <td>dailyjs.com</td>\n",
       "    </tr>\n",
       "    <tr>\n",
       "      <th>18564</th>\n",
       "      <td>http://npm.community/t/npmjs-com-should-displa...</td>\n",
       "      <td>404</td>\n",
       "      <td>npmjs.com</td>\n",
       "    </tr>\n",
       "    <tr>\n",
       "      <th>18565</th>\n",
       "      <td>http://blog.keithcirkel.co.uk/how-to-use-npm-a...</td>\n",
       "      <td>Request failed</td>\n",
       "      <td>blog.keithcirkel.co.uk</td>\n",
       "    </tr>\n",
       "  </tbody>\n",
       "</table>\n",
       "<p>18566 rows × 3 columns</p>\n",
       "</div>"
      ],
      "text/plain": [
       "                                                    Link     link_status  \\\n",
       "0      https://docs.npmjs.com/cli/v7/using-npm/config...             200   \n",
       "1      https://github.com/alexwilson/enable-github-au...             200   \n",
       "2            https://github.com/Financial-Times/scrumple             200   \n",
       "3      https://polyfill.io/v3/packages/#create-polyfi...  Request failed   \n",
       "4                       https://polyfill.io/v3/packages/  Request failed   \n",
       "...                                                  ...             ...   \n",
       "18561  https://x.com/liran_tal/status/142257310415767...             200   \n",
       "18562  https://blog.nodejitsu.com/simple-hosted-priva...  Request failed   \n",
       "18563         http://dailyjs.com/2013/09/06/npm-updates/   Timeout error   \n",
       "18564  http://npm.community/t/npmjs-com-should-displa...             404   \n",
       "18565  http://blog.keithcirkel.co.uk/how-to-use-npm-a...  Request failed   \n",
       "\n",
       "                      domain1  \n",
       "0              docs.npmjs.com  \n",
       "1                  github.com  \n",
       "2                  github.com  \n",
       "3                 polyfill.io  \n",
       "4                 polyfill.io  \n",
       "...                       ...  \n",
       "18561             twitter.com  \n",
       "18562      blog.nodejitsu.com  \n",
       "18563             dailyjs.com  \n",
       "18564               npmjs.com  \n",
       "18565  blog.keithcirkel.co.uk  \n",
       "\n",
       "[18566 rows x 3 columns]"
      ]
     },
     "execution_count": 12,
     "metadata": {},
     "output_type": "execute_result"
    }
   ],
   "source": [
    "df.drop(['domain'],axis=1,inplace=True)\n",
    "df"
   ]
  },
  {
   "cell_type": "code",
   "execution_count": 13,
   "id": "ed9aa2a9",
   "metadata": {},
   "outputs": [],
   "source": [
    "df.rename(columns={'domain1': 'Domain'}, inplace=True)"
   ]
  },
  {
   "cell_type": "code",
   "execution_count": 14,
   "id": "f0f6ffee",
   "metadata": {},
   "outputs": [],
   "source": [
    "df.to_csv('all_link_with_domain.csv')"
   ]
  },
  {
   "cell_type": "code",
   "execution_count": null,
   "id": "badd48d0",
   "metadata": {},
   "outputs": [],
   "source": []
  }
 ],
 "metadata": {
  "kernelspec": {
   "display_name": "Python 3 (ipykernel)",
   "language": "python",
   "name": "python3"
  },
  "language_info": {
   "codemirror_mode": {
    "name": "ipython",
    "version": 3
   },
   "file_extension": ".py",
   "mimetype": "text/x-python",
   "name": "python",
   "nbconvert_exporter": "python",
   "pygments_lexer": "ipython3",
   "version": "3.11.5"
  }
 },
 "nbformat": 4,
 "nbformat_minor": 5
}
